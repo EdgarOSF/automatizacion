{
 "cells": [
  {
   "cell_type": "markdown",
   "metadata": {},
   "source": [
    "Dependencias"
   ]
  },
  {
   "cell_type": "code",
   "execution_count": null,
   "metadata": {},
   "outputs": [],
   "source": [
    "# pip install pandas\n",
    "# pip install sqlalchemy\n",
    "# pip install openpyxl"
   ]
  },
  {
   "cell_type": "markdown",
   "metadata": {},
   "source": [
    "Importaciones"
   ]
  },
  {
   "cell_type": "code",
   "execution_count": 5,
   "metadata": {},
   "outputs": [],
   "source": [
    "from datetime import datetime\n",
    "import pandas as pd\n",
    "from sqlalchemy import create_engine"
   ]
  },
  {
   "cell_type": "markdown",
   "metadata": {},
   "source": [
    "Importacion de Archivo Fuente"
   ]
  },
  {
   "cell_type": "code",
   "execution_count": 8,
   "metadata": {},
   "outputs": [],
   "source": [
    "#Import .csv file\n",
    "df = pd.read_excel('./PADRON+CATALOGO  GENERAL JULIO 2024 CON SUSTITUCIONES.xlsx')\n",
    "# Guardar el DataFrame como un archivo pickle\n",
    "df.to_pickle('padron.pkl')\n",
    "# Leer archivo\n",
    "df = pd.read_pickle('padron.pkl')"
   ]
  },
  {
   "cell_type": "markdown",
   "metadata": {},
   "source": [
    "Datos estaticos"
   ]
  },
  {
   "cell_type": "code",
   "execution_count": 9,
   "metadata": {},
   "outputs": [],
   "source": [
    "# Agregar las columnas \"fecha_captura\" y \"fecha_actualizacion\" con valores estáticos de tipo datetime\n",
    "fecha_captura = datetime(2024, 9, 1)  # Fecha válida de este año y mes (ejemplo: 1 de septiembre de 2024)\n",
    "fecha_actualizacion = datetime(2024, 9, 1)  # Fecha válida de este año y mes (ejemplo: 2 de septiembre de 2024)\n",
    "\n",
    "df['fecha_captura'] = fecha_captura\n",
    "df['fecha_actualizacion'] = fecha_actualizacion\n",
    "# Agregar la columna \"estatus\" con valor 1 (entero)\n",
    "df['estatus'] = 1"
   ]
  },
  {
   "cell_type": "markdown",
   "metadata": {},
   "source": [
    "Limpieza de Datos"
   ]
  },
  {
   "cell_type": "code",
   "execution_count": 10,
   "metadata": {},
   "outputs": [],
   "source": [
    "# Convertir la columna 'fecha' a formato datetime, forzando valores inválidos a NaT\n",
    "df['fecha_entrada'] = pd.to_datetime(df['fecha_entrada'], errors='coerce')\n",
    "\n",
    "# Reemplazar los caracteres no deseados en todas las columnas de tipo string (object)\n",
    "for column in df.columns:\n",
    "    if df[column].dtype == 'object':\n",
    "        df[column] = df[column].str.replace('_x000D_', '', regex=False).str.replace('_x0002_', '', regex=False).replace('S/N', None, regex=False).replace('S/N-', None, regex=False).replace('SIN NUMERO', None, regex=False).str.strip()\n",
    "\n",
    "# Filtrar filas donde 'columna1' y 'columna3' tienen valores vacíos\n",
    "filas_vacias = df[df[['fuente_financiamiento_id', 'numero_economico', 'numero_inventario', 'nombre_completo', 'numero_resguardo']].isnull().all(axis=1)]\n",
    "# print(filas_vacias)\n",
    "\n",
    "df_sin_vacios = df.drop(filas_vacias.index)"
   ]
  },
  {
   "cell_type": "code",
   "execution_count": null,
   "metadata": {},
   "outputs": [],
   "source": [
    "print(df_sin_vacios.head())"
   ]
  },
  {
   "cell_type": "markdown",
   "metadata": {},
   "source": [
    "Insercion"
   ]
  },
  {
   "cell_type": "code",
   "execution_count": null,
   "metadata": {},
   "outputs": [],
   "source": [
    "#INPUT YOUR OWN CONNECTION STRING HERE\n",
    "conn_string = \"postgresql://desarrollo:salud2024@db:5432/departamento_inventario\"\n",
    "#perform to_sql test and print result\n",
    "db = create_engine(conn_string)\n",
    "conn = db.connect()\n",
    "\n",
    "df_sin_vacios.to_sql('BienFisico', con=conn, if_exists='append', index=False, chunksize=1000)"
   ]
  }
 ],
 "metadata": {
  "kernelspec": {
   "display_name": "py312",
   "language": "python",
   "name": "python3"
  },
  "language_info": {
   "codemirror_mode": {
    "name": "ipython",
    "version": 3
   },
   "file_extension": ".py",
   "mimetype": "text/x-python",
   "name": "python",
   "nbconvert_exporter": "python",
   "pygments_lexer": "ipython3",
   "version": "3.12.4"
  }
 },
 "nbformat": 4,
 "nbformat_minor": 2
}
